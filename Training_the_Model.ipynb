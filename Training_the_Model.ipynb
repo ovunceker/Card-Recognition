{
  "nbformat": 4,
  "nbformat_minor": 0,
  "metadata": {
    "colab": {
      "provenance": []
    },
    "kernelspec": {
      "name": "python3",
      "display_name": "Python 3"
    },
    "language_info": {
      "name": "python"
    }
  },
  "cells": [
    {
      "cell_type": "code",
      "execution_count": null,
      "metadata": {
        "colab": {
          "base_uri": "https://localhost:8080/"
        },
        "id": "WDfH6qu6aU9v",
        "outputId": "47dc159f-b6c5-4505-bc00-4f29c89aa6b7"
      },
      "outputs": [
        {
          "output_type": "stream",
          "name": "stdout",
          "text": [
            "Mounted at /content/drive\n"
          ]
        }
      ],
      "source": [
        " from google.colab import drive\n",
        " drive.mount('/content/drive')"
      ]
    },
    {
      "cell_type": "code",
      "source": [
        "#Uploading over 8500 pictures\n",
        "\n",
        "# Create a folder to extract images into\n",
        "!mkdir -p /content/unzipped_images1/\n",
        "\n",
        "# Unzip your file (using your exact path)\n",
        "!unzip \"/content/drive/MyDrive/new_images_folder.zip\" -d /content/unzipped_images1/"
      ],
      "metadata": {
        "id": "ZWOaK1kmuhnA"
      },
      "execution_count": null,
      "outputs": []
    },
    {
      "cell_type": "code",
      "source": [
        "# Verify the files were extracted\n",
        "import os\n",
        "extracted_files = os.listdir(\"/content/unzipped_images1/new_images_folder\")\n",
        "print(f\"Found {len(extracted_files)} files/folders in the unzipped directory\")\n",
        "print(\"First 5 items:\", extracted_files[:5])"
      ],
      "metadata": {
        "id": "dvMAyIBiuiSw"
      },
      "execution_count": null,
      "outputs": []
    },
    {
      "cell_type": "code",
      "source": [
        "# Uploading libraries\n",
        "import numpy as np\n",
        "import tensorflow as tf\n",
        "from tensorflow.keras.models import Sequential\n",
        "from tensorflow.keras.layers import Dense\n",
        "from tensorflow.keras.activations import linear, relu, sigmoid, softmax\n",
        "%matplotlib inline\n",
        "import matplotlib.pyplot as plt\n",
        "plt.style.use('./deeplearning.mplstyle')\n",
        "from tensorflow.keras import Input\n",
        "from tensorflow.keras.regularizers import l2"
      ],
      "metadata": {
        "id": "N6YxP3A6umgD"
      },
      "execution_count": null,
      "outputs": []
    },
    {
      "cell_type": "code",
      "source": [
        "import logging\n",
        "logging.getLogger(\"tensorflow\").setLevel(logging.ERROR)\n",
        "tf.autograph.set_verbosity(0)"
      ],
      "metadata": {
        "id": "Igu0iOinuriv"
      },
      "execution_count": null,
      "outputs": []
    },
    {
      "cell_type": "code",
      "source": [
        "#Flattening the pictures and creating labels\n",
        "#Will be used for loading date\n",
        "\n",
        "import os\n",
        "import numpy as np\n",
        "from PIL import Image\n",
        "\n",
        "image_folder = '/content/unzipped_images1/new_images_folder'\n",
        "output_data_file = 'new_deck_flatten1.npy'\n",
        "output_labels_file = 'new_card_labels1.npy'\n",
        "image_size = (128, 128)\n",
        "cards = ['ace_spades', '2_spades', '3_spades', '4_spades', '5_spades',\n",
        "         '6_spades', '7_spades', '8_spades', '9_spades', '10_spades',\n",
        "         'jack_spades', 'queen_spades', 'king_spades',\n",
        "         'ace_hearts', '2_hearts', '3_hearts', '4_hearts', '5_hearts',\n",
        "         '6_hearts', '7_hearts', '8_hearts', '9_hearts', '10_hearts',\n",
        "         'jack_hearts', 'queen_hearts', 'king_hearts',\n",
        "         'ace_diamonds', '2_diamonds', '3_diamonds', '4_diamonds', '5_diamonds',\n",
        "         '6_diamonds', '7_diamonds', '8_diamonds', '9_diamonds', '10_diamonds',\n",
        "         'jack_diamonds', 'queen_diamonds', 'king_diamonds',\n",
        "         'ace_clubs', '2_clubs', '3_clubs', '4_clubs', '5_clubs',\n",
        "         '6_clubs', '7_clubs', '8_clubs', '9_clubs', '10_clubs',\n",
        "         'jack_clubs', 'queen_clubs', 'king_clubs',]\n",
        "\n",
        "all_rows = []\n",
        "all_labels = []\n",
        "\n",
        "for card in cards:\n",
        "    image_files = sorted([\n",
        "        os.path.join(image_folder, f)\n",
        "        for f in os.listdir(image_folder)\n",
        "        if f.startswith(card)\n",
        "    ])\n",
        "\n",
        "    for file in image_files:\n",
        "        img = Image.open(file).convert('RGB')\n",
        "        img = img.resize(image_size)\n",
        "        img_array = np.array(img)\n",
        "\n",
        "        for k in [0, 1, 2, 3]:  # original + 3 rotations\n",
        "            rotated = np.rot90(img_array, k=k)\n",
        "            flat = rotated.flatten()\n",
        "            all_rows.append(flat)\n",
        "            all_labels.append(card)  # Add label for each rotation\n",
        "\n",
        "# Convert to arrays\n",
        "data_array = np.stack(all_rows)                       # Shape: (4160, H*W*3)\n",
        "labels_array = np.array(all_labels).reshape(-1, 1)    # Shape: (4160, 1)\n",
        "\n",
        "# Save both\n",
        "np.save(output_data_file, data_array)\n",
        "np.save(output_labels_file, labels_array)\n",
        "\n",
        "print(f\"Saved data to {output_data_file} with shape {data_array.shape}\")\n",
        "print(f\"Saved labels to {output_labels_file} with shape {labels_array.shape}\")\n"
      ],
      "metadata": {
        "id": "RE7VVUbuvPM8"
      },
      "execution_count": null,
      "outputs": []
    },
    {
      "cell_type": "code",
      "source": [
        "# Loading the data\n",
        "from public_tests import *\n",
        "\n",
        "from autils import *\n",
        "from lab_utils_softmax import plt_softmax\n",
        "np.set_printoptions(precision=2)\n",
        "\n",
        "X, y = load_data()"
      ],
      "metadata": {
        "id": "VPCNdt5ausS4"
      },
      "execution_count": null,
      "outputs": []
    },
    {
      "cell_type": "code",
      "source": [
        "# Reshaping\n",
        "from tensorflow.keras.layers import Dense, Conv2D, MaxPooling2D, Flatten, Dropout, BatchNormalization\n",
        "\n",
        "X_cnn = X.reshape(-1, 128, 128, 3)\n",
        "X_cnn = X_cnn/255.0"
      ],
      "metadata": {
        "id": "omfg_i7su-3-"
      },
      "execution_count": null,
      "outputs": []
    },
    {
      "cell_type": "code",
      "source": [
        "# Data augmentation\n",
        "from tensorflow.keras.preprocessing.image import ImageDataGenerator\n",
        "\n",
        "datagen = ImageDataGenerator(\n",
        "    rotation_range=15,\n",
        "    width_shift_range=0.1,\n",
        "    height_shift_range=0.1,\n",
        "    shear_range=0.1,\n",
        "    zoom_range=0.1,\n",
        "    horizontal_flip=False,  # Cards shouldn't be flipped horizontally\n",
        "    fill_mode='nearest',\n",
        "    validation_split=0.1\n",
        ")"
      ],
      "metadata": {
        "id": "Yn2hGspDvBk1"
      },
      "execution_count": null,
      "outputs": []
    },
    {
      "cell_type": "code",
      "source": [
        "# Model definition\n",
        "model = Sequential([\n",
        "    Input(shape=(128,128,3)),\n",
        "    Conv2D(32, (3,3), activation='relu', padding='same', kernel_regularizer=l2(0.001)),\n",
        "    BatchNormalization(),\n",
        "    MaxPooling2D(2,2),\n",
        "    Conv2D(64, (3,3), activation='relu', padding='same', kernel_regularizer=l2(0.001)),\n",
        "    BatchNormalization(),\n",
        "    MaxPooling2D(2,2),\n",
        "    Conv2D(128, (3,3), activation='relu', padding='same', kernel_regularizer=l2(0.001)),\n",
        "    BatchNormalization(),\n",
        "    MaxPooling2D(2,2),\n",
        "    Flatten(),\n",
        "    Dense(256, activation='relu', kernel_regularizer=l2(0.001)),\n",
        "    Dropout(0.5),\n",
        "    BatchNormalization(),\n",
        "    Dense(52, activation='softmax')\n",
        "])"
      ],
      "metadata": {
        "id": "6JKFemphvEA1"
      },
      "execution_count": null,
      "outputs": []
    },
    {
      "cell_type": "code",
      "source": [
        "# Loading y-labels and converting to integers\n",
        "from sklearn.preprocessing import LabelEncoder\n",
        "import numpy as np\n",
        "\n",
        "# Load string labels\n",
        "y_labels = np.load(\"new_card_labels1.npy\")  # contains strings like \"king_hearts\", etc.\n",
        "y_labels = y_labels.ravel()\n",
        "\n",
        "# Convert to integer class IDs\n",
        "encoder = LabelEncoder()\n",
        "y_encoded = encoder.fit_transform(y_labels)"
      ],
      "metadata": {
        "id": "d0xRTFePvIzV"
      },
      "execution_count": null,
      "outputs": []
    },
    {
      "cell_type": "code",
      "source": [
        "# Shuffling the cards/data and its labels together\n",
        "\n",
        "from sklearn.utils import shuffle\n",
        "\n",
        "X_cnn, y_encoded = shuffle(X_cnn, y_encoded, random_state=42)"
      ],
      "metadata": {
        "id": "FAHxIkmYvyiK"
      },
      "execution_count": null,
      "outputs": []
    },
    {
      "cell_type": "code",
      "source": [
        "# Splitting the data\n",
        "\n",
        "from sklearn.model_selection import train_test_split\n",
        "\n",
        "X_train, X_val, y_train, y_val = train_test_split(\n",
        "    X_cnn, y_encoded,\n",
        "    test_size=0.1,\n",
        "    stratify=y_encoded,\n",
        "    random_state=42\n",
        ")\n",
        "\n",
        "# Then create separate generators\n",
        "train_datagen = ImageDataGenerator(\n",
        "    rotation_range=15,\n",
        "    width_shift_range=0.1,\n",
        "    height_shift_range=0.1,\n",
        "    shear_range=0.1,\n",
        "    zoom_range=0.1,\n",
        "    horizontal_flip=False,\n",
        "    fill_mode='nearest'\n",
        ")\n",
        "\n",
        "val_datagen = ImageDataGenerator()  # No augmentation for validation\n",
        "\n",
        "train_generator = train_datagen.flow(\n",
        "    X_train, y_train,\n",
        "    batch_size=32\n",
        ")\n",
        "\n",
        "val_generator = val_datagen.flow(\n",
        "    X_val, y_val,\n",
        "    batch_size=32\n",
        ")"
      ],
      "metadata": {
        "id": "tHVtU9Lev3UZ"
      },
      "execution_count": null,
      "outputs": []
    },
    {
      "cell_type": "code",
      "source": [
        "# Training\n",
        "model.compile(\n",
        "    optimizer=tf.keras.optimizers.Adam(learning_rate=0.001),  # Lower learning rate\n",
        "    loss='sparse_categorical_crossentropy',\n",
        "    metrics=['accuracy']\n",
        ")\n",
        "\n",
        "# Early stopping\n",
        "early_stopping = tf.keras.callbacks.EarlyStopping(\n",
        "    monitor='val_loss',\n",
        "    patience=5,\n",
        "    restore_best_weights=True\n",
        ")\n",
        "\n",
        "import pickle\n",
        "\n",
        "def save_history(history, filename='training_history.pkl'):\n",
        "    with open(filename, 'wb') as f:\n",
        "        pickle.dump(history.history, f)\n",
        "\n",
        "from tensorflow.keras.callbacks import ModelCheckpoint\n",
        "\n",
        "checkpoint = ModelCheckpoint(\n",
        "    'new_best_model.h5',             # File to save\n",
        "    monitor='val_accuracy',      # Metric to track\n",
        "    save_best_only=True,         # Only save if val_accuracy improves\n",
        "    mode='max',                  # Maximize val_accuracy\n",
        "    verbose=1                    # Show messages when saving\n",
        ")\n",
        "\n",
        "history = model.fit(\n",
        "    train_generator,\n",
        "    validation_data=val_generator,\n",
        "    epochs=100,\n",
        "    callbacks=[checkpoint],      # Checkpoint here\n",
        "    verbose=1\n",
        ")"
      ],
      "metadata": {
        "id": "XAZhAfVPv4N8"
      },
      "execution_count": null,
      "outputs": []
    }
  ]
}